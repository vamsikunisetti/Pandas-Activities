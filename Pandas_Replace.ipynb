{
 "cells": [
  {
   "cell_type": "code",
   "execution_count": 268,
   "id": "deb006f0-a77d-4400-8a33-6c194733716d",
   "metadata": {},
   "outputs": [],
   "source": [
    "import pandas as pd\n",
    "import numpy as np\n",
    "import warnings\n",
    "warnings.filterwarnings(\"ignore\")"
   ]
  },
  {
   "cell_type": "code",
   "execution_count": 270,
   "id": "16169576-dc6a-45af-b2d6-5a50ce6b27ae",
   "metadata": {},
   "outputs": [
    {
     "data": {
      "text/html": [
       "<div>\n",
       "<style scoped>\n",
       "    .dataframe tbody tr th:only-of-type {\n",
       "        vertical-align: middle;\n",
       "    }\n",
       "\n",
       "    .dataframe tbody tr th {\n",
       "        vertical-align: top;\n",
       "    }\n",
       "\n",
       "    .dataframe thead th {\n",
       "        text-align: right;\n",
       "    }\n",
       "</style>\n",
       "<table border=\"1\" class=\"dataframe\">\n",
       "  <thead>\n",
       "    <tr style=\"text-align: right;\">\n",
       "      <th></th>\n",
       "      <th>Date</th>\n",
       "      <th>Bajaj</th>\n",
       "      <th>Price_india</th>\n",
       "      <th>Honda</th>\n",
       "      <th>Price</th>\n",
       "      <th>Daytype</th>\n",
       "    </tr>\n",
       "  </thead>\n",
       "  <tbody>\n",
       "    <tr>\n",
       "      <th>0</th>\n",
       "      <td>05-01-2021</td>\n",
       "      <td>135 kmph</td>\n",
       "      <td>Rs.150000</td>\n",
       "      <td>132 kmph</td>\n",
       "      <td>$1,500</td>\n",
       "      <td>Sun</td>\n",
       "    </tr>\n",
       "    <tr>\n",
       "      <th>1</th>\n",
       "      <td>05-02-2021</td>\n",
       "      <td>110 kmph</td>\n",
       "      <td>Rs.175000</td>\n",
       "      <td>112 kmph</td>\n",
       "      <td>$2,500</td>\n",
       "      <td>Windy</td>\n",
       "    </tr>\n",
       "    <tr>\n",
       "      <th>2</th>\n",
       "      <td>05-03-2021</td>\n",
       "      <td>98 kmph</td>\n",
       "      <td>Rs.150000</td>\n",
       "      <td>95 kmph</td>\n",
       "      <td>$3,500</td>\n",
       "      <td>Rainy</td>\n",
       "    </tr>\n",
       "    <tr>\n",
       "      <th>3</th>\n",
       "      <td>05-04-2021</td>\n",
       "      <td>105 kmph</td>\n",
       "      <td>Rs.200000</td>\n",
       "      <td>106 kmph</td>\n",
       "      <td>$2,500</td>\n",
       "      <td>Windy</td>\n",
       "    </tr>\n",
       "    <tr>\n",
       "      <th>4</th>\n",
       "      <td>05-05-2021</td>\n",
       "      <td>135 kmph</td>\n",
       "      <td>Rs.150000</td>\n",
       "      <td>133 kmph</td>\n",
       "      <td>$1,800</td>\n",
       "      <td>Sun</td>\n",
       "    </tr>\n",
       "    <tr>\n",
       "      <th>5</th>\n",
       "      <td>05-06-2021</td>\n",
       "      <td>140 kmph</td>\n",
       "      <td>Rs.100000</td>\n",
       "      <td>138 kmph</td>\n",
       "      <td>$2,500</td>\n",
       "      <td>Sun</td>\n",
       "    </tr>\n",
       "    <tr>\n",
       "      <th>6</th>\n",
       "      <td>05-07-2021</td>\n",
       "      <td>135 kmph</td>\n",
       "      <td>Rs.175000</td>\n",
       "      <td>138 kmph</td>\n",
       "      <td>$3,500</td>\n",
       "      <td>Sun</td>\n",
       "    </tr>\n",
       "    <tr>\n",
       "      <th>7</th>\n",
       "      <td>05-08-2021</td>\n",
       "      <td>90 kmph</td>\n",
       "      <td>Rs.100000</td>\n",
       "      <td>92 kmph</td>\n",
       "      <td>$2,500</td>\n",
       "      <td>Cold</td>\n",
       "    </tr>\n",
       "    <tr>\n",
       "      <th>8</th>\n",
       "      <td>05-09-2021</td>\n",
       "      <td>95 kmph</td>\n",
       "      <td>Rs.150007</td>\n",
       "      <td>93 kmph</td>\n",
       "      <td>$1,800</td>\n",
       "      <td>Cold</td>\n",
       "    </tr>\n",
       "    <tr>\n",
       "      <th>9</th>\n",
       "      <td>05-10-2021</td>\n",
       "      <td>100 kmph</td>\n",
       "      <td>Rs.175008</td>\n",
       "      <td>98 kmph</td>\n",
       "      <td>$1,500</td>\n",
       "      <td>Rainy</td>\n",
       "    </tr>\n",
       "  </tbody>\n",
       "</table>\n",
       "</div>"
      ],
      "text/plain": [
       "         Date     Bajaj Price_india     Honda    Price Daytype\n",
       "0  05-01-2021  135 kmph   Rs.150000  132 kmph  $1,500      Sun\n",
       "1  05-02-2021  110 kmph   Rs.175000  112 kmph  $2,500    Windy\n",
       "2  05-03-2021   98 kmph   Rs.150000   95 kmph  $3,500    Rainy\n",
       "3  05-04-2021  105 kmph   Rs.200000  106 kmph  $2,500    Windy\n",
       "4  05-05-2021  135 kmph   Rs.150000  133 kmph  $1,800      Sun\n",
       "5  05-06-2021  140 kmph   Rs.100000  138 kmph  $2,500      Sun\n",
       "6  05-07-2021  135 kmph   Rs.175000  138 kmph  $3,500      Sun\n",
       "7  05-08-2021   90 kmph   Rs.100000   92 kmph  $2,500     Cold\n",
       "8  05-09-2021   95 kmph   Rs.150007   93 kmph  $1,800     Cold\n",
       "9  05-10-2021  100 kmph   Rs.175008   98 kmph  $1,500    Rainy"
      ]
     },
     "execution_count": 270,
     "metadata": {},
     "output_type": "execute_result"
    }
   ],
   "source": [
    "sp=pd.read_csv(\"C:/Datasets/speed.csv\")\n",
    "sp"
   ]
  },
  {
   "cell_type": "code",
   "execution_count": 272,
   "id": "47292133-a828-4d60-8aed-1528ae8c4b18",
   "metadata": {},
   "outputs": [
    {
     "data": {
      "text/plain": [
       "Index(['Date', 'Bajaj', 'Price_india', 'Honda', 'Price', 'Daytype'], dtype='object')"
      ]
     },
     "execution_count": 272,
     "metadata": {},
     "output_type": "execute_result"
    }
   ],
   "source": [
    "sp.columns"
   ]
  },
  {
   "cell_type": "code",
   "execution_count": 277,
   "id": "d0f99c22-914a-4b93-bb46-793f72796f8b",
   "metadata": {},
   "outputs": [],
   "source": [
    "sp[\"Bajaj\"].replace(\"[^0-9]\",\"\",regex=True,inplace=True)"
   ]
  },
  {
   "cell_type": "code",
   "execution_count": 279,
   "id": "42aff9a0-7d1a-4f5d-8209-c95e689c90d1",
   "metadata": {},
   "outputs": [
    {
     "data": {
      "text/html": [
       "<div>\n",
       "<style scoped>\n",
       "    .dataframe tbody tr th:only-of-type {\n",
       "        vertical-align: middle;\n",
       "    }\n",
       "\n",
       "    .dataframe tbody tr th {\n",
       "        vertical-align: top;\n",
       "    }\n",
       "\n",
       "    .dataframe thead th {\n",
       "        text-align: right;\n",
       "    }\n",
       "</style>\n",
       "<table border=\"1\" class=\"dataframe\">\n",
       "  <thead>\n",
       "    <tr style=\"text-align: right;\">\n",
       "      <th></th>\n",
       "      <th>Date</th>\n",
       "      <th>Bajaj</th>\n",
       "      <th>Price_india</th>\n",
       "      <th>Honda</th>\n",
       "      <th>Price</th>\n",
       "      <th>Daytype</th>\n",
       "    </tr>\n",
       "  </thead>\n",
       "  <tbody>\n",
       "    <tr>\n",
       "      <th>0</th>\n",
       "      <td>05-01-2021</td>\n",
       "      <td>135</td>\n",
       "      <td>Rs.150000</td>\n",
       "      <td>132 kmph</td>\n",
       "      <td>$1,500</td>\n",
       "      <td>Sun</td>\n",
       "    </tr>\n",
       "    <tr>\n",
       "      <th>1</th>\n",
       "      <td>05-02-2021</td>\n",
       "      <td>110</td>\n",
       "      <td>Rs.175000</td>\n",
       "      <td>112 kmph</td>\n",
       "      <td>$2,500</td>\n",
       "      <td>Windy</td>\n",
       "    </tr>\n",
       "    <tr>\n",
       "      <th>2</th>\n",
       "      <td>05-03-2021</td>\n",
       "      <td>98</td>\n",
       "      <td>Rs.150000</td>\n",
       "      <td>95 kmph</td>\n",
       "      <td>$3,500</td>\n",
       "      <td>Rainy</td>\n",
       "    </tr>\n",
       "    <tr>\n",
       "      <th>3</th>\n",
       "      <td>05-04-2021</td>\n",
       "      <td>105</td>\n",
       "      <td>Rs.200000</td>\n",
       "      <td>106 kmph</td>\n",
       "      <td>$2,500</td>\n",
       "      <td>Windy</td>\n",
       "    </tr>\n",
       "    <tr>\n",
       "      <th>4</th>\n",
       "      <td>05-05-2021</td>\n",
       "      <td>135</td>\n",
       "      <td>Rs.150000</td>\n",
       "      <td>133 kmph</td>\n",
       "      <td>$1,800</td>\n",
       "      <td>Sun</td>\n",
       "    </tr>\n",
       "    <tr>\n",
       "      <th>5</th>\n",
       "      <td>05-06-2021</td>\n",
       "      <td>140</td>\n",
       "      <td>Rs.100000</td>\n",
       "      <td>138 kmph</td>\n",
       "      <td>$2,500</td>\n",
       "      <td>Sun</td>\n",
       "    </tr>\n",
       "    <tr>\n",
       "      <th>6</th>\n",
       "      <td>05-07-2021</td>\n",
       "      <td>135</td>\n",
       "      <td>Rs.175000</td>\n",
       "      <td>138 kmph</td>\n",
       "      <td>$3,500</td>\n",
       "      <td>Sun</td>\n",
       "    </tr>\n",
       "    <tr>\n",
       "      <th>7</th>\n",
       "      <td>05-08-2021</td>\n",
       "      <td>90</td>\n",
       "      <td>Rs.100000</td>\n",
       "      <td>92 kmph</td>\n",
       "      <td>$2,500</td>\n",
       "      <td>Cold</td>\n",
       "    </tr>\n",
       "    <tr>\n",
       "      <th>8</th>\n",
       "      <td>05-09-2021</td>\n",
       "      <td>95</td>\n",
       "      <td>Rs.150007</td>\n",
       "      <td>93 kmph</td>\n",
       "      <td>$1,800</td>\n",
       "      <td>Cold</td>\n",
       "    </tr>\n",
       "    <tr>\n",
       "      <th>9</th>\n",
       "      <td>05-10-2021</td>\n",
       "      <td>100</td>\n",
       "      <td>Rs.175008</td>\n",
       "      <td>98 kmph</td>\n",
       "      <td>$1,500</td>\n",
       "      <td>Rainy</td>\n",
       "    </tr>\n",
       "  </tbody>\n",
       "</table>\n",
       "</div>"
      ],
      "text/plain": [
       "         Date Bajaj Price_india     Honda    Price Daytype\n",
       "0  05-01-2021   135   Rs.150000  132 kmph  $1,500      Sun\n",
       "1  05-02-2021   110   Rs.175000  112 kmph  $2,500    Windy\n",
       "2  05-03-2021    98   Rs.150000   95 kmph  $3,500    Rainy\n",
       "3  05-04-2021   105   Rs.200000  106 kmph  $2,500    Windy\n",
       "4  05-05-2021   135   Rs.150000  133 kmph  $1,800      Sun\n",
       "5  05-06-2021   140   Rs.100000  138 kmph  $2,500      Sun\n",
       "6  05-07-2021   135   Rs.175000  138 kmph  $3,500      Sun\n",
       "7  05-08-2021    90   Rs.100000   92 kmph  $2,500     Cold\n",
       "8  05-09-2021    95   Rs.150007   93 kmph  $1,800     Cold\n",
       "9  05-10-2021   100   Rs.175008   98 kmph  $1,500    Rainy"
      ]
     },
     "execution_count": 279,
     "metadata": {},
     "output_type": "execute_result"
    }
   ],
   "source": [
    "sp"
   ]
  },
  {
   "cell_type": "code",
   "execution_count": 281,
   "id": "994af153-2b29-4610-ab55-f0ade19a97da",
   "metadata": {},
   "outputs": [
    {
     "data": {
      "text/plain": [
       "dtype('O')"
      ]
     },
     "execution_count": 281,
     "metadata": {},
     "output_type": "execute_result"
    }
   ],
   "source": [
    "sp[\"Bajaj\"].dtype"
   ]
  },
  {
   "cell_type": "code",
   "execution_count": 283,
   "id": "c0c55f36-0668-416e-869b-81745fe846cd",
   "metadata": {},
   "outputs": [],
   "source": [
    "sp[\"Bajaj\"]=sp[\"Bajaj\"].astype(\"int\")"
   ]
  },
  {
   "cell_type": "code",
   "execution_count": 285,
   "id": "c5184269-7941-43e6-8fbd-4e68414c38f9",
   "metadata": {},
   "outputs": [
    {
     "data": {
      "text/plain": [
       "0    135\n",
       "1    110\n",
       "2     98\n",
       "3    105\n",
       "4    135\n",
       "5    140\n",
       "6    135\n",
       "7     90\n",
       "8     95\n",
       "9    100\n",
       "Name: Bajaj, dtype: int32"
      ]
     },
     "execution_count": 285,
     "metadata": {},
     "output_type": "execute_result"
    }
   ],
   "source": [
    "sp[\"Bajaj\"]"
   ]
  },
  {
   "cell_type": "code",
   "execution_count": 287,
   "id": "6cf5594d-5cce-4690-93af-3718cf84f843",
   "metadata": {},
   "outputs": [
    {
     "data": {
      "text/plain": [
       "114.3"
      ]
     },
     "execution_count": 287,
     "metadata": {},
     "output_type": "execute_result"
    }
   ],
   "source": [
    "sp[\"Bajaj\"].mean()"
   ]
  },
  {
   "cell_type": "code",
   "execution_count": 289,
   "id": "191b7e19-c297-4be7-b0c9-b5f47cf1e3f3",
   "metadata": {},
   "outputs": [],
   "source": [
    "sp[\"Price_india\"].replace(\"[^0-9]\",\"\",regex=True,inplace=True)"
   ]
  },
  {
   "cell_type": "code",
   "execution_count": 291,
   "id": "e9da4945-0669-4df1-971f-f20337479cfb",
   "metadata": {},
   "outputs": [
    {
     "data": {
      "text/html": [
       "<div>\n",
       "<style scoped>\n",
       "    .dataframe tbody tr th:only-of-type {\n",
       "        vertical-align: middle;\n",
       "    }\n",
       "\n",
       "    .dataframe tbody tr th {\n",
       "        vertical-align: top;\n",
       "    }\n",
       "\n",
       "    .dataframe thead th {\n",
       "        text-align: right;\n",
       "    }\n",
       "</style>\n",
       "<table border=\"1\" class=\"dataframe\">\n",
       "  <thead>\n",
       "    <tr style=\"text-align: right;\">\n",
       "      <th></th>\n",
       "      <th>Date</th>\n",
       "      <th>Bajaj</th>\n",
       "      <th>Price_india</th>\n",
       "      <th>Honda</th>\n",
       "      <th>Price</th>\n",
       "      <th>Daytype</th>\n",
       "    </tr>\n",
       "  </thead>\n",
       "  <tbody>\n",
       "    <tr>\n",
       "      <th>0</th>\n",
       "      <td>05-01-2021</td>\n",
       "      <td>135</td>\n",
       "      <td>150000</td>\n",
       "      <td>132 kmph</td>\n",
       "      <td>$1,500</td>\n",
       "      <td>Sun</td>\n",
       "    </tr>\n",
       "    <tr>\n",
       "      <th>1</th>\n",
       "      <td>05-02-2021</td>\n",
       "      <td>110</td>\n",
       "      <td>175000</td>\n",
       "      <td>112 kmph</td>\n",
       "      <td>$2,500</td>\n",
       "      <td>Windy</td>\n",
       "    </tr>\n",
       "    <tr>\n",
       "      <th>2</th>\n",
       "      <td>05-03-2021</td>\n",
       "      <td>98</td>\n",
       "      <td>150000</td>\n",
       "      <td>95 kmph</td>\n",
       "      <td>$3,500</td>\n",
       "      <td>Rainy</td>\n",
       "    </tr>\n",
       "    <tr>\n",
       "      <th>3</th>\n",
       "      <td>05-04-2021</td>\n",
       "      <td>105</td>\n",
       "      <td>200000</td>\n",
       "      <td>106 kmph</td>\n",
       "      <td>$2,500</td>\n",
       "      <td>Windy</td>\n",
       "    </tr>\n",
       "    <tr>\n",
       "      <th>4</th>\n",
       "      <td>05-05-2021</td>\n",
       "      <td>135</td>\n",
       "      <td>150000</td>\n",
       "      <td>133 kmph</td>\n",
       "      <td>$1,800</td>\n",
       "      <td>Sun</td>\n",
       "    </tr>\n",
       "    <tr>\n",
       "      <th>5</th>\n",
       "      <td>05-06-2021</td>\n",
       "      <td>140</td>\n",
       "      <td>100000</td>\n",
       "      <td>138 kmph</td>\n",
       "      <td>$2,500</td>\n",
       "      <td>Sun</td>\n",
       "    </tr>\n",
       "    <tr>\n",
       "      <th>6</th>\n",
       "      <td>05-07-2021</td>\n",
       "      <td>135</td>\n",
       "      <td>175000</td>\n",
       "      <td>138 kmph</td>\n",
       "      <td>$3,500</td>\n",
       "      <td>Sun</td>\n",
       "    </tr>\n",
       "    <tr>\n",
       "      <th>7</th>\n",
       "      <td>05-08-2021</td>\n",
       "      <td>90</td>\n",
       "      <td>100000</td>\n",
       "      <td>92 kmph</td>\n",
       "      <td>$2,500</td>\n",
       "      <td>Cold</td>\n",
       "    </tr>\n",
       "    <tr>\n",
       "      <th>8</th>\n",
       "      <td>05-09-2021</td>\n",
       "      <td>95</td>\n",
       "      <td>150007</td>\n",
       "      <td>93 kmph</td>\n",
       "      <td>$1,800</td>\n",
       "      <td>Cold</td>\n",
       "    </tr>\n",
       "    <tr>\n",
       "      <th>9</th>\n",
       "      <td>05-10-2021</td>\n",
       "      <td>100</td>\n",
       "      <td>175008</td>\n",
       "      <td>98 kmph</td>\n",
       "      <td>$1,500</td>\n",
       "      <td>Rainy</td>\n",
       "    </tr>\n",
       "  </tbody>\n",
       "</table>\n",
       "</div>"
      ],
      "text/plain": [
       "         Date  Bajaj Price_india     Honda    Price Daytype\n",
       "0  05-01-2021    135      150000  132 kmph  $1,500      Sun\n",
       "1  05-02-2021    110      175000  112 kmph  $2,500    Windy\n",
       "2  05-03-2021     98      150000   95 kmph  $3,500    Rainy\n",
       "3  05-04-2021    105      200000  106 kmph  $2,500    Windy\n",
       "4  05-05-2021    135      150000  133 kmph  $1,800      Sun\n",
       "5  05-06-2021    140      100000  138 kmph  $2,500      Sun\n",
       "6  05-07-2021    135      175000  138 kmph  $3,500      Sun\n",
       "7  05-08-2021     90      100000   92 kmph  $2,500     Cold\n",
       "8  05-09-2021     95      150007   93 kmph  $1,800     Cold\n",
       "9  05-10-2021    100      175008   98 kmph  $1,500    Rainy"
      ]
     },
     "execution_count": 291,
     "metadata": {},
     "output_type": "execute_result"
    }
   ],
   "source": [
    "sp"
   ]
  },
  {
   "cell_type": "code",
   "execution_count": 293,
   "id": "4f0ea8c0-f1bc-4aaf-b614-fbe314982563",
   "metadata": {},
   "outputs": [
    {
     "data": {
      "text/plain": [
       "dtype('O')"
      ]
     },
     "execution_count": 293,
     "metadata": {},
     "output_type": "execute_result"
    }
   ],
   "source": [
    "sp[\"Price_india\"].dtype"
   ]
  },
  {
   "cell_type": "code",
   "execution_count": 295,
   "id": "cd5eb8e4-b773-426d-9fac-2245d82c1392",
   "metadata": {},
   "outputs": [
    {
     "data": {
      "text/plain": [
       "0    150000\n",
       "1    175000\n",
       "2    150000\n",
       "3    200000\n",
       "4    150000\n",
       "5    100000\n",
       "6    175000\n",
       "7    100000\n",
       "8    150007\n",
       "9    175008\n",
       "Name: Price_india, dtype: int32"
      ]
     },
     "execution_count": 295,
     "metadata": {},
     "output_type": "execute_result"
    }
   ],
   "source": [
    "sp[\"Price_india\"]=sp[\"Price_india\"].astype(\"int\")\n",
    "sp[\"Price_india\"]"
   ]
  },
  {
   "cell_type": "code",
   "execution_count": 297,
   "id": "c2b6c164-17e5-4137-a4b8-312a899fc6f3",
   "metadata": {},
   "outputs": [],
   "source": [
    "# s=0\n",
    "# for i in sp[\"Price_india\"]:\n",
    "#     s=s+1\n",
    "# print(s)"
   ]
  },
  {
   "cell_type": "code",
   "execution_count": 299,
   "id": "c5d697fe-5cc0-4a16-8ed6-fc8740883215",
   "metadata": {},
   "outputs": [
    {
     "data": {
      "text/plain": [
       "1525015"
      ]
     },
     "execution_count": 299,
     "metadata": {},
     "output_type": "execute_result"
    }
   ],
   "source": [
    "sp[\"Price_india\"].sum()"
   ]
  },
  {
   "cell_type": "code",
   "execution_count": 301,
   "id": "3fc11577-3879-4efc-bdfd-014a1f6da6f4",
   "metadata": {},
   "outputs": [],
   "source": [
    "sp[\"Price\"].replace(\"[^0-9]\",\"\",regex=True,inplace=True)"
   ]
  },
  {
   "cell_type": "code",
   "execution_count": 303,
   "id": "d92ab203-0567-4907-840f-5d2840147bdc",
   "metadata": {},
   "outputs": [
    {
     "data": {
      "text/html": [
       "<div>\n",
       "<style scoped>\n",
       "    .dataframe tbody tr th:only-of-type {\n",
       "        vertical-align: middle;\n",
       "    }\n",
       "\n",
       "    .dataframe tbody tr th {\n",
       "        vertical-align: top;\n",
       "    }\n",
       "\n",
       "    .dataframe thead th {\n",
       "        text-align: right;\n",
       "    }\n",
       "</style>\n",
       "<table border=\"1\" class=\"dataframe\">\n",
       "  <thead>\n",
       "    <tr style=\"text-align: right;\">\n",
       "      <th></th>\n",
       "      <th>Date</th>\n",
       "      <th>Bajaj</th>\n",
       "      <th>Price_india</th>\n",
       "      <th>Honda</th>\n",
       "      <th>Price</th>\n",
       "      <th>Daytype</th>\n",
       "    </tr>\n",
       "  </thead>\n",
       "  <tbody>\n",
       "    <tr>\n",
       "      <th>0</th>\n",
       "      <td>05-01-2021</td>\n",
       "      <td>135</td>\n",
       "      <td>150000</td>\n",
       "      <td>132 kmph</td>\n",
       "      <td>1500</td>\n",
       "      <td>Sun</td>\n",
       "    </tr>\n",
       "    <tr>\n",
       "      <th>1</th>\n",
       "      <td>05-02-2021</td>\n",
       "      <td>110</td>\n",
       "      <td>175000</td>\n",
       "      <td>112 kmph</td>\n",
       "      <td>2500</td>\n",
       "      <td>Windy</td>\n",
       "    </tr>\n",
       "    <tr>\n",
       "      <th>2</th>\n",
       "      <td>05-03-2021</td>\n",
       "      <td>98</td>\n",
       "      <td>150000</td>\n",
       "      <td>95 kmph</td>\n",
       "      <td>3500</td>\n",
       "      <td>Rainy</td>\n",
       "    </tr>\n",
       "    <tr>\n",
       "      <th>3</th>\n",
       "      <td>05-04-2021</td>\n",
       "      <td>105</td>\n",
       "      <td>200000</td>\n",
       "      <td>106 kmph</td>\n",
       "      <td>2500</td>\n",
       "      <td>Windy</td>\n",
       "    </tr>\n",
       "    <tr>\n",
       "      <th>4</th>\n",
       "      <td>05-05-2021</td>\n",
       "      <td>135</td>\n",
       "      <td>150000</td>\n",
       "      <td>133 kmph</td>\n",
       "      <td>1800</td>\n",
       "      <td>Sun</td>\n",
       "    </tr>\n",
       "    <tr>\n",
       "      <th>5</th>\n",
       "      <td>05-06-2021</td>\n",
       "      <td>140</td>\n",
       "      <td>100000</td>\n",
       "      <td>138 kmph</td>\n",
       "      <td>2500</td>\n",
       "      <td>Sun</td>\n",
       "    </tr>\n",
       "    <tr>\n",
       "      <th>6</th>\n",
       "      <td>05-07-2021</td>\n",
       "      <td>135</td>\n",
       "      <td>175000</td>\n",
       "      <td>138 kmph</td>\n",
       "      <td>3500</td>\n",
       "      <td>Sun</td>\n",
       "    </tr>\n",
       "    <tr>\n",
       "      <th>7</th>\n",
       "      <td>05-08-2021</td>\n",
       "      <td>90</td>\n",
       "      <td>100000</td>\n",
       "      <td>92 kmph</td>\n",
       "      <td>2500</td>\n",
       "      <td>Cold</td>\n",
       "    </tr>\n",
       "    <tr>\n",
       "      <th>8</th>\n",
       "      <td>05-09-2021</td>\n",
       "      <td>95</td>\n",
       "      <td>150007</td>\n",
       "      <td>93 kmph</td>\n",
       "      <td>1800</td>\n",
       "      <td>Cold</td>\n",
       "    </tr>\n",
       "    <tr>\n",
       "      <th>9</th>\n",
       "      <td>05-10-2021</td>\n",
       "      <td>100</td>\n",
       "      <td>175008</td>\n",
       "      <td>98 kmph</td>\n",
       "      <td>1500</td>\n",
       "      <td>Rainy</td>\n",
       "    </tr>\n",
       "  </tbody>\n",
       "</table>\n",
       "</div>"
      ],
      "text/plain": [
       "         Date  Bajaj  Price_india     Honda Price Daytype\n",
       "0  05-01-2021    135       150000  132 kmph  1500     Sun\n",
       "1  05-02-2021    110       175000  112 kmph  2500   Windy\n",
       "2  05-03-2021     98       150000   95 kmph  3500   Rainy\n",
       "3  05-04-2021    105       200000  106 kmph  2500   Windy\n",
       "4  05-05-2021    135       150000  133 kmph  1800     Sun\n",
       "5  05-06-2021    140       100000  138 kmph  2500     Sun\n",
       "6  05-07-2021    135       175000  138 kmph  3500     Sun\n",
       "7  05-08-2021     90       100000   92 kmph  2500    Cold\n",
       "8  05-09-2021     95       150007   93 kmph  1800    Cold\n",
       "9  05-10-2021    100       175008   98 kmph  1500   Rainy"
      ]
     },
     "execution_count": 303,
     "metadata": {},
     "output_type": "execute_result"
    }
   ],
   "source": [
    "sp"
   ]
  },
  {
   "cell_type": "code",
   "execution_count": 305,
   "id": "2b006155-0510-4551-9829-8aefd92bf73a",
   "metadata": {},
   "outputs": [
    {
     "data": {
      "text/plain": [
       "dtype('O')"
      ]
     },
     "execution_count": 305,
     "metadata": {},
     "output_type": "execute_result"
    }
   ],
   "source": [
    "sp[\"Price\"].dtype"
   ]
  },
  {
   "cell_type": "code",
   "execution_count": 307,
   "id": "3bd0c1d0-efaa-426a-aae7-f2a6a1a00f22",
   "metadata": {},
   "outputs": [
    {
     "data": {
      "text/plain": [
       "0    1500\n",
       "1    2500\n",
       "2    3500\n",
       "3    2500\n",
       "4    1800\n",
       "5    2500\n",
       "6    3500\n",
       "7    2500\n",
       "8    1800\n",
       "9    1500\n",
       "Name: Price, dtype: int32"
      ]
     },
     "execution_count": 307,
     "metadata": {},
     "output_type": "execute_result"
    }
   ],
   "source": [
    "sp[\"Price\"].astype(\"int\")"
   ]
  },
  {
   "cell_type": "code",
   "execution_count": 309,
   "id": "56635c9d-52c7-4dc9-93fa-f48031bf2194",
   "metadata": {},
   "outputs": [
    {
     "data": {
      "text/plain": [
       "0    1500\n",
       "1    2500\n",
       "2    3500\n",
       "3    2500\n",
       "4    1800\n",
       "5    2500\n",
       "6    3500\n",
       "7    2500\n",
       "8    1800\n",
       "9    1500\n",
       "Name: Price, dtype: int32"
      ]
     },
     "execution_count": 309,
     "metadata": {},
     "output_type": "execute_result"
    }
   ],
   "source": [
    "sp[\"Price\"]=sp[\"Price\"].astype(\"int\")\n",
    "sp[\"Price\"]"
   ]
  },
  {
   "cell_type": "code",
   "execution_count": 311,
   "id": "cddebd99-abff-419b-85c3-cabec3775563",
   "metadata": {},
   "outputs": [
    {
     "data": {
      "text/html": [
       "<div>\n",
       "<style scoped>\n",
       "    .dataframe tbody tr th:only-of-type {\n",
       "        vertical-align: middle;\n",
       "    }\n",
       "\n",
       "    .dataframe tbody tr th {\n",
       "        vertical-align: top;\n",
       "    }\n",
       "\n",
       "    .dataframe thead th {\n",
       "        text-align: right;\n",
       "    }\n",
       "</style>\n",
       "<table border=\"1\" class=\"dataframe\">\n",
       "  <thead>\n",
       "    <tr style=\"text-align: right;\">\n",
       "      <th></th>\n",
       "      <th>Date</th>\n",
       "      <th>Bajaj</th>\n",
       "      <th>Price_india</th>\n",
       "      <th>Honda</th>\n",
       "      <th>Price</th>\n",
       "      <th>Daytype</th>\n",
       "    </tr>\n",
       "  </thead>\n",
       "  <tbody>\n",
       "    <tr>\n",
       "      <th>0</th>\n",
       "      <td>05-01-2021</td>\n",
       "      <td>135</td>\n",
       "      <td>150000</td>\n",
       "      <td>132 kmph</td>\n",
       "      <td>1500</td>\n",
       "      <td>Sun</td>\n",
       "    </tr>\n",
       "    <tr>\n",
       "      <th>1</th>\n",
       "      <td>05-02-2021</td>\n",
       "      <td>110</td>\n",
       "      <td>175000</td>\n",
       "      <td>112 kmph</td>\n",
       "      <td>2500</td>\n",
       "      <td>Windy</td>\n",
       "    </tr>\n",
       "    <tr>\n",
       "      <th>2</th>\n",
       "      <td>05-03-2021</td>\n",
       "      <td>98</td>\n",
       "      <td>150000</td>\n",
       "      <td>95 kmph</td>\n",
       "      <td>3500</td>\n",
       "      <td>Rainy</td>\n",
       "    </tr>\n",
       "    <tr>\n",
       "      <th>3</th>\n",
       "      <td>05-04-2021</td>\n",
       "      <td>105</td>\n",
       "      <td>200000</td>\n",
       "      <td>106 kmph</td>\n",
       "      <td>2500</td>\n",
       "      <td>Windy</td>\n",
       "    </tr>\n",
       "    <tr>\n",
       "      <th>4</th>\n",
       "      <td>05-05-2021</td>\n",
       "      <td>135</td>\n",
       "      <td>150000</td>\n",
       "      <td>133 kmph</td>\n",
       "      <td>1800</td>\n",
       "      <td>Sun</td>\n",
       "    </tr>\n",
       "    <tr>\n",
       "      <th>5</th>\n",
       "      <td>05-06-2021</td>\n",
       "      <td>140</td>\n",
       "      <td>100000</td>\n",
       "      <td>138 kmph</td>\n",
       "      <td>2500</td>\n",
       "      <td>Sun</td>\n",
       "    </tr>\n",
       "    <tr>\n",
       "      <th>6</th>\n",
       "      <td>05-07-2021</td>\n",
       "      <td>135</td>\n",
       "      <td>175000</td>\n",
       "      <td>138 kmph</td>\n",
       "      <td>3500</td>\n",
       "      <td>Sun</td>\n",
       "    </tr>\n",
       "    <tr>\n",
       "      <th>7</th>\n",
       "      <td>05-08-2021</td>\n",
       "      <td>90</td>\n",
       "      <td>100000</td>\n",
       "      <td>92 kmph</td>\n",
       "      <td>2500</td>\n",
       "      <td>Cold</td>\n",
       "    </tr>\n",
       "    <tr>\n",
       "      <th>8</th>\n",
       "      <td>05-09-2021</td>\n",
       "      <td>95</td>\n",
       "      <td>150007</td>\n",
       "      <td>93 kmph</td>\n",
       "      <td>1800</td>\n",
       "      <td>Cold</td>\n",
       "    </tr>\n",
       "    <tr>\n",
       "      <th>9</th>\n",
       "      <td>05-10-2021</td>\n",
       "      <td>100</td>\n",
       "      <td>175008</td>\n",
       "      <td>98 kmph</td>\n",
       "      <td>1500</td>\n",
       "      <td>Rainy</td>\n",
       "    </tr>\n",
       "  </tbody>\n",
       "</table>\n",
       "</div>"
      ],
      "text/plain": [
       "         Date  Bajaj  Price_india     Honda  Price Daytype\n",
       "0  05-01-2021    135       150000  132 kmph   1500     Sun\n",
       "1  05-02-2021    110       175000  112 kmph   2500   Windy\n",
       "2  05-03-2021     98       150000   95 kmph   3500   Rainy\n",
       "3  05-04-2021    105       200000  106 kmph   2500   Windy\n",
       "4  05-05-2021    135       150000  133 kmph   1800     Sun\n",
       "5  05-06-2021    140       100000  138 kmph   2500     Sun\n",
       "6  05-07-2021    135       175000  138 kmph   3500     Sun\n",
       "7  05-08-2021     90       100000   92 kmph   2500    Cold\n",
       "8  05-09-2021     95       150007   93 kmph   1800    Cold\n",
       "9  05-10-2021    100       175008   98 kmph   1500   Rainy"
      ]
     },
     "execution_count": 311,
     "metadata": {},
     "output_type": "execute_result"
    }
   ],
   "source": [
    "sp"
   ]
  },
  {
   "cell_type": "code",
   "execution_count": 313,
   "id": "cde8ad53-dce9-4cf8-bf46-0f9e95bffb5f",
   "metadata": {},
   "outputs": [
    {
     "data": {
      "text/plain": [
       "23600"
      ]
     },
     "execution_count": 313,
     "metadata": {},
     "output_type": "execute_result"
    }
   ],
   "source": [
    "sp[\"Price\"].sum()"
   ]
  },
  {
   "cell_type": "code",
   "execution_count": null,
   "id": "e738f356-1529-4eb8-ab0f-4ac696e19d06",
   "metadata": {},
   "outputs": [],
   "source": []
  },
  {
   "cell_type": "code",
   "execution_count": 316,
   "id": "58325a5b-bf2c-4a91-bcca-78078df7b1cd",
   "metadata": {},
   "outputs": [
    {
     "data": {
      "text/html": [
       "<div>\n",
       "<style scoped>\n",
       "    .dataframe tbody tr th:only-of-type {\n",
       "        vertical-align: middle;\n",
       "    }\n",
       "\n",
       "    .dataframe tbody tr th {\n",
       "        vertical-align: top;\n",
       "    }\n",
       "\n",
       "    .dataframe thead th {\n",
       "        text-align: right;\n",
       "    }\n",
       "</style>\n",
       "<table border=\"1\" class=\"dataframe\">\n",
       "  <thead>\n",
       "    <tr style=\"text-align: right;\">\n",
       "      <th></th>\n",
       "      <th>Date</th>\n",
       "      <th>Region</th>\n",
       "      <th>Type</th>\n",
       "      <th>Units</th>\n",
       "      <th>Sales</th>\n",
       "    </tr>\n",
       "  </thead>\n",
       "  <tbody>\n",
       "    <tr>\n",
       "      <th>0</th>\n",
       "      <td>07-11-2020</td>\n",
       "      <td>East</td>\n",
       "      <td>Children's Clothing</td>\n",
       "      <td>18.0</td>\n",
       "      <td>$306.00</td>\n",
       "    </tr>\n",
       "    <tr>\n",
       "      <th>1</th>\n",
       "      <td>9/23/2020</td>\n",
       "      <td>North</td>\n",
       "      <td>Children's Clothing</td>\n",
       "      <td>14.0</td>\n",
       "      <td>$448.00</td>\n",
       "    </tr>\n",
       "    <tr>\n",
       "      <th>2</th>\n",
       "      <td>04-02-2020</td>\n",
       "      <td>South</td>\n",
       "      <td>Women's Clothing</td>\n",
       "      <td>17.0</td>\n",
       "      <td>$425.00</td>\n",
       "    </tr>\n",
       "    <tr>\n",
       "      <th>3</th>\n",
       "      <td>2/28/2020</td>\n",
       "      <td>East</td>\n",
       "      <td>Children's Clothing</td>\n",
       "      <td>26.0</td>\n",
       "      <td>$832.00</td>\n",
       "    </tr>\n",
       "    <tr>\n",
       "      <th>4</th>\n",
       "      <td>3/19/2020</td>\n",
       "      <td>West</td>\n",
       "      <td>Women's Clothing</td>\n",
       "      <td>3.0</td>\n",
       "      <td>$33.00</td>\n",
       "    </tr>\n",
       "    <tr>\n",
       "      <th>...</th>\n",
       "      <td>...</td>\n",
       "      <td>...</td>\n",
       "      <td>...</td>\n",
       "      <td>...</td>\n",
       "      <td>...</td>\n",
       "    </tr>\n",
       "    <tr>\n",
       "      <th>995</th>\n",
       "      <td>02-11-2020</td>\n",
       "      <td>East</td>\n",
       "      <td>Children's Clothing</td>\n",
       "      <td>35.0</td>\n",
       "      <td>$735.00</td>\n",
       "    </tr>\n",
       "    <tr>\n",
       "      <th>996</th>\n",
       "      <td>12/25/2020</td>\n",
       "      <td>North</td>\n",
       "      <td>Men's Clothing</td>\n",
       "      <td>NaN</td>\n",
       "      <td>$1,155.00</td>\n",
       "    </tr>\n",
       "    <tr>\n",
       "      <th>997</th>\n",
       "      <td>8/31/2020</td>\n",
       "      <td>South</td>\n",
       "      <td>Men's Clothing</td>\n",
       "      <td>13.0</td>\n",
       "      <td>$208.00</td>\n",
       "    </tr>\n",
       "    <tr>\n",
       "      <th>998</th>\n",
       "      <td>8/23/2020</td>\n",
       "      <td>South</td>\n",
       "      <td>Women's Clothing</td>\n",
       "      <td>17.0</td>\n",
       "      <td>$493.00</td>\n",
       "    </tr>\n",
       "    <tr>\n",
       "      <th>999</th>\n",
       "      <td>8/17/2020</td>\n",
       "      <td>North</td>\n",
       "      <td>Women's Clothing</td>\n",
       "      <td>25.0</td>\n",
       "      <td>$300.00</td>\n",
       "    </tr>\n",
       "  </tbody>\n",
       "</table>\n",
       "<p>1000 rows × 5 columns</p>\n",
       "</div>"
      ],
      "text/plain": [
       "           Date Region                 Type  Units      Sales\n",
       "0    07-11-2020   East  Children's Clothing   18.0    $306.00\n",
       "1     9/23/2020  North  Children's Clothing   14.0    $448.00\n",
       "2    04-02-2020  South     Women's Clothing   17.0    $425.00\n",
       "3     2/28/2020   East  Children's Clothing   26.0    $832.00\n",
       "4     3/19/2020   West     Women's Clothing    3.0     $33.00\n",
       "..          ...    ...                  ...    ...        ...\n",
       "995  02-11-2020   East  Children's Clothing   35.0    $735.00\n",
       "996  12/25/2020  North       Men's Clothing    NaN  $1,155.00\n",
       "997   8/31/2020  South       Men's Clothing   13.0    $208.00\n",
       "998   8/23/2020  South     Women's Clothing   17.0    $493.00\n",
       "999   8/17/2020  North     Women's Clothing   25.0    $300.00\n",
       "\n",
       "[1000 rows x 5 columns]"
      ]
     },
     "execution_count": 316,
     "metadata": {},
     "output_type": "execute_result"
    }
   ],
   "source": [
    "sales=pd.read_csv(r\"C:\\Datasets/Crosstab_Sales.csv\")\n",
    "sales"
   ]
  },
  {
   "cell_type": "code",
   "execution_count": 318,
   "id": "81239fa7-2335-401d-a296-37add010f145",
   "metadata": {},
   "outputs": [],
   "source": [
    "sales.drop(\"Date\",axis=1,inplace=True)"
   ]
  },
  {
   "cell_type": "code",
   "execution_count": 320,
   "id": "715d7cda-23cd-4ffd-b4b6-d612f8230834",
   "metadata": {},
   "outputs": [
    {
     "data": {
      "text/html": [
       "<div>\n",
       "<style scoped>\n",
       "    .dataframe tbody tr th:only-of-type {\n",
       "        vertical-align: middle;\n",
       "    }\n",
       "\n",
       "    .dataframe tbody tr th {\n",
       "        vertical-align: top;\n",
       "    }\n",
       "\n",
       "    .dataframe thead th {\n",
       "        text-align: right;\n",
       "    }\n",
       "</style>\n",
       "<table border=\"1\" class=\"dataframe\">\n",
       "  <thead>\n",
       "    <tr style=\"text-align: right;\">\n",
       "      <th></th>\n",
       "      <th>Region</th>\n",
       "      <th>Type</th>\n",
       "      <th>Units</th>\n",
       "      <th>Sales</th>\n",
       "    </tr>\n",
       "  </thead>\n",
       "  <tbody>\n",
       "    <tr>\n",
       "      <th>0</th>\n",
       "      <td>East</td>\n",
       "      <td>Children's Clothing</td>\n",
       "      <td>18.0</td>\n",
       "      <td>$306.00</td>\n",
       "    </tr>\n",
       "    <tr>\n",
       "      <th>1</th>\n",
       "      <td>North</td>\n",
       "      <td>Children's Clothing</td>\n",
       "      <td>14.0</td>\n",
       "      <td>$448.00</td>\n",
       "    </tr>\n",
       "    <tr>\n",
       "      <th>2</th>\n",
       "      <td>South</td>\n",
       "      <td>Women's Clothing</td>\n",
       "      <td>17.0</td>\n",
       "      <td>$425.00</td>\n",
       "    </tr>\n",
       "    <tr>\n",
       "      <th>3</th>\n",
       "      <td>East</td>\n",
       "      <td>Children's Clothing</td>\n",
       "      <td>26.0</td>\n",
       "      <td>$832.00</td>\n",
       "    </tr>\n",
       "    <tr>\n",
       "      <th>4</th>\n",
       "      <td>West</td>\n",
       "      <td>Women's Clothing</td>\n",
       "      <td>3.0</td>\n",
       "      <td>$33.00</td>\n",
       "    </tr>\n",
       "    <tr>\n",
       "      <th>...</th>\n",
       "      <td>...</td>\n",
       "      <td>...</td>\n",
       "      <td>...</td>\n",
       "      <td>...</td>\n",
       "    </tr>\n",
       "    <tr>\n",
       "      <th>995</th>\n",
       "      <td>East</td>\n",
       "      <td>Children's Clothing</td>\n",
       "      <td>35.0</td>\n",
       "      <td>$735.00</td>\n",
       "    </tr>\n",
       "    <tr>\n",
       "      <th>996</th>\n",
       "      <td>North</td>\n",
       "      <td>Men's Clothing</td>\n",
       "      <td>NaN</td>\n",
       "      <td>$1,155.00</td>\n",
       "    </tr>\n",
       "    <tr>\n",
       "      <th>997</th>\n",
       "      <td>South</td>\n",
       "      <td>Men's Clothing</td>\n",
       "      <td>13.0</td>\n",
       "      <td>$208.00</td>\n",
       "    </tr>\n",
       "    <tr>\n",
       "      <th>998</th>\n",
       "      <td>South</td>\n",
       "      <td>Women's Clothing</td>\n",
       "      <td>17.0</td>\n",
       "      <td>$493.00</td>\n",
       "    </tr>\n",
       "    <tr>\n",
       "      <th>999</th>\n",
       "      <td>North</td>\n",
       "      <td>Women's Clothing</td>\n",
       "      <td>25.0</td>\n",
       "      <td>$300.00</td>\n",
       "    </tr>\n",
       "  </tbody>\n",
       "</table>\n",
       "<p>1000 rows × 4 columns</p>\n",
       "</div>"
      ],
      "text/plain": [
       "    Region                 Type  Units      Sales\n",
       "0     East  Children's Clothing   18.0    $306.00\n",
       "1    North  Children's Clothing   14.0    $448.00\n",
       "2    South     Women's Clothing   17.0    $425.00\n",
       "3     East  Children's Clothing   26.0    $832.00\n",
       "4     West     Women's Clothing    3.0     $33.00\n",
       "..     ...                  ...    ...        ...\n",
       "995   East  Children's Clothing   35.0    $735.00\n",
       "996  North       Men's Clothing    NaN  $1,155.00\n",
       "997  South       Men's Clothing   13.0    $208.00\n",
       "998  South     Women's Clothing   17.0    $493.00\n",
       "999  North     Women's Clothing   25.0    $300.00\n",
       "\n",
       "[1000 rows x 4 columns]"
      ]
     },
     "execution_count": 320,
     "metadata": {},
     "output_type": "execute_result"
    }
   ],
   "source": [
    "sales"
   ]
  },
  {
   "cell_type": "code",
   "execution_count": 322,
   "id": "bb883596-6ecd-4066-810f-6d8ec4a11440",
   "metadata": {},
   "outputs": [
    {
     "data": {
      "text/plain": [
       "Index(['Region', 'Type', 'Units', 'Sales'], dtype='object')"
      ]
     },
     "execution_count": 322,
     "metadata": {},
     "output_type": "execute_result"
    }
   ],
   "source": [
    "sales.columns"
   ]
  },
  {
   "cell_type": "code",
   "execution_count": 324,
   "id": "65912900-7339-4cad-95a7-94337b8a0d87",
   "metadata": {},
   "outputs": [
    {
     "data": {
      "text/plain": [
       "array(['East', 'North', 'South', 'West'], dtype=object)"
      ]
     },
     "execution_count": 324,
     "metadata": {},
     "output_type": "execute_result"
    }
   ],
   "source": [
    "sales[\"Region\"].unique()  ## geting values"
   ]
  },
  {
   "cell_type": "code",
   "execution_count": 326,
   "id": "27f729df-c1a6-4641-9f53-a8843ca13764",
   "metadata": {},
   "outputs": [
    {
     "data": {
      "text/plain": [
       "Region\n",
       "East     411\n",
       "North    316\n",
       "South    137\n",
       "West     136\n",
       "Name: count, dtype: int64"
      ]
     },
     "execution_count": 326,
     "metadata": {},
     "output_type": "execute_result"
    }
   ],
   "source": [
    "sales[\"Region\"].value_counts()  ## identified uniques one's and count each unique entries"
   ]
  },
  {
   "cell_type": "code",
   "execution_count": 328,
   "id": "8e3a8d9c-b66a-447c-a2f1-74f96663dc1f",
   "metadata": {},
   "outputs": [
    {
     "data": {
      "text/plain": [
       "<Axes: xlabel='Region'>"
      ]
     },
     "execution_count": 328,
     "metadata": {},
     "output_type": "execute_result"
    },
    {
     "data": {
      "image/png": "[encoded data removed]",
      "text/plain": [
       "<Figure size 640x480 with 1 Axes>"
      ]
     },
     "metadata": {},
     "output_type": "display_data"
    }
   ],
   "source": [
    "sales[\"Region\"].value_counts().plot(kind=\"bar\")"
   ]
  },
  {
   "cell_type": "code",
   "execution_count": 330,
   "id": "5cba1f30-0ddd-4767-bef0-9dea1c3de59b",
   "metadata": {},
   "outputs": [
    {
     "data": {
      "text/html": [
       "<div>\n",
       "<style scoped>\n",
       "    .dataframe tbody tr th:only-of-type {\n",
       "        vertical-align: middle;\n",
       "    }\n",
       "\n",
       "    .dataframe tbody tr th {\n",
       "        vertical-align: top;\n",
       "    }\n",
       "\n",
       "    .dataframe thead th {\n",
       "        text-align: right;\n",
       "    }\n",
       "</style>\n",
       "<table border=\"1\" class=\"dataframe\">\n",
       "  <thead>\n",
       "    <tr style=\"text-align: right;\">\n",
       "      <th></th>\n",
       "      <th>Region</th>\n",
       "      <th>Type</th>\n",
       "      <th>Units</th>\n",
       "      <th>Sales</th>\n",
       "    </tr>\n",
       "  </thead>\n",
       "  <tbody>\n",
       "    <tr>\n",
       "      <th>0</th>\n",
       "      <td>East</td>\n",
       "      <td>Children's Clothing</td>\n",
       "      <td>18.0</td>\n",
       "      <td>$306.00</td>\n",
       "    </tr>\n",
       "    <tr>\n",
       "      <th>1</th>\n",
       "      <td>North</td>\n",
       "      <td>Children's Clothing</td>\n",
       "      <td>14.0</td>\n",
       "      <td>$448.00</td>\n",
       "    </tr>\n",
       "    <tr>\n",
       "      <th>2</th>\n",
       "      <td>South</td>\n",
       "      <td>Women's Clothing</td>\n",
       "      <td>17.0</td>\n",
       "      <td>$425.00</td>\n",
       "    </tr>\n",
       "    <tr>\n",
       "      <th>3</th>\n",
       "      <td>East</td>\n",
       "      <td>Children's Clothing</td>\n",
       "      <td>26.0</td>\n",
       "      <td>$832.00</td>\n",
       "    </tr>\n",
       "    <tr>\n",
       "      <th>4</th>\n",
       "      <td>West</td>\n",
       "      <td>Women's Clothing</td>\n",
       "      <td>3.0</td>\n",
       "      <td>$33.00</td>\n",
       "    </tr>\n",
       "  </tbody>\n",
       "</table>\n",
       "</div>"
      ],
      "text/plain": [
       "  Region                 Type  Units    Sales\n",
       "0   East  Children's Clothing   18.0  $306.00\n",
       "1  North  Children's Clothing   14.0  $448.00\n",
       "2  South     Women's Clothing   17.0  $425.00\n",
       "3   East  Children's Clothing   26.0  $832.00\n",
       "4   West     Women's Clothing    3.0   $33.00"
      ]
     },
     "execution_count": 330,
     "metadata": {},
     "output_type": "execute_result"
    }
   ],
   "source": [
    "sales.head()"
   ]
  },
  {
   "cell_type": "code",
   "execution_count": 332,
   "id": "daf77bf9-63c6-4a7a-b4d8-8096e88c89e8",
   "metadata": {},
   "outputs": [
    {
     "data": {
      "text/plain": [
       "array([\"Children's Clothing\", \"Women's Clothing\", \"Men's Clothing\"],\n",
       "      dtype=object)"
      ]
     },
     "execution_count": 332,
     "metadata": {},
     "output_type": "execute_result"
    }
   ],
   "source": [
    "sales[\"Type\"].unique()"
   ]
  },
  {
   "cell_type": "code",
   "execution_count": 334,
   "id": "8ea43278-237a-4445-a75d-b12e27444cb1",
   "metadata": {},
   "outputs": [
    {
     "data": {
      "text/plain": [
       "Type\n",
       "Women's Clothing       424\n",
       "Men's Clothing         291\n",
       "Children's Clothing    285\n",
       "Name: count, dtype: int64"
      ]
     },
     "execution_count": 334,
     "metadata": {},
     "output_type": "execute_result"
    }
   ],
   "source": [
    "sales[\"Type\"].value_counts()"
   ]
  },
  {
   "cell_type": "code",
   "execution_count": 336,
   "id": "cb391691-9fe9-4c7b-9d16-8058f1befaa1",
   "metadata": {},
   "outputs": [
    {
     "data": {
      "text/plain": [
       "<Axes: xlabel='Type'>"
      ]
     },
     "execution_count": 336,
     "metadata": {},
     "output_type": "execute_result"
    },
    {
     "data": {
      "image/png": "[encoded data removed]",
      "text/plain": [
       "<Figure size 640x480 with 1 Axes>"
      ]
     },
     "metadata": {},
     "output_type": "display_data"
    }
   ],
   "source": [
    "sales[\"Type\"].value_counts().plot(kind=\"bar\")"
   ]
  },
  {
   "cell_type": "code",
   "execution_count": 338,
   "id": "dc4ea62a-e4fb-4c0c-b1a3-a7e788c2f6d3",
   "metadata": {},
   "outputs": [
    {
     "data": {
      "text/plain": [
       "<Axes: ylabel='count'>"
      ]
     },
     "execution_count": 338,
     "metadata": {},
     "output_type": "execute_result"
    },
    {
     "data": {
      "image/png": "[encoded data removed]",
      "text/plain": [
       "<Figure size 640x480 with 1 Axes>"
      ]
     },
     "metadata": {},
     "output_type": "display_data"
    }
   ],
   "source": [
    "sales[\"Type\"].value_counts().plot(kind=\"pie\")"
   ]
  },
  {
   "cell_type": "code",
   "execution_count": 340,
   "id": "a408f5bc-46bf-448b-abce-b2ba2db4d33a",
   "metadata": {},
   "outputs": [
    {
     "data": {
      "text/plain": [
       "Region     0\n",
       "Type       0\n",
       "Units     89\n",
       "Sales      0\n",
       "dtype: int64"
      ]
     },
     "execution_count": 340,
     "metadata": {},
     "output_type": "execute_result"
    }
   ],
   "source": [
    "sales.isna().sum()"
   ]
  },
  {
   "cell_type": "code",
   "execution_count": 342,
   "id": "4a027508-c31d-4f5c-808e-4c320d75c26e",
   "metadata": {},
   "outputs": [
    {
     "data": {
      "text/plain": [
       "19.63885839736553"
      ]
     },
     "execution_count": 342,
     "metadata": {},
     "output_type": "execute_result"
    }
   ],
   "source": [
    "sales[\"Units\"].mean()"
   ]
  },
  {
   "cell_type": "code",
   "execution_count": 344,
   "id": "38acf4df-2075-4551-905a-b73bfaa02dcb",
   "metadata": {},
   "outputs": [
    {
     "data": {
      "text/plain": [
       "20.0"
      ]
     },
     "execution_count": 344,
     "metadata": {},
     "output_type": "execute_result"
    }
   ],
   "source": [
    "sales[\"Units\"].mean().round()"
   ]
  },
  {
   "cell_type": "code",
   "execution_count": 346,
   "id": "0f40c668-cbe1-4f27-914b-b95cf4ed1081",
   "metadata": {},
   "outputs": [],
   "source": [
    "sales[\"Units\"].replace(np.nan,sales[\"Units\"].mean().round(),inplace=True)    ### imp"
   ]
  },
  {
   "cell_type": "code",
   "execution_count": 348,
   "id": "6380afe8-f2a3-4c00-8a5c-a98f3fe93629",
   "metadata": {},
   "outputs": [
    {
     "data": {
      "text/html": [
       "<div>\n",
       "<style scoped>\n",
       "    .dataframe tbody tr th:only-of-type {\n",
       "        vertical-align: middle;\n",
       "    }\n",
       "\n",
       "    .dataframe tbody tr th {\n",
       "        vertical-align: top;\n",
       "    }\n",
       "\n",
       "    .dataframe thead th {\n",
       "        text-align: right;\n",
       "    }\n",
       "</style>\n",
       "<table border=\"1\" class=\"dataframe\">\n",
       "  <thead>\n",
       "    <tr style=\"text-align: right;\">\n",
       "      <th></th>\n",
       "      <th>Region</th>\n",
       "      <th>Type</th>\n",
       "      <th>Units</th>\n",
       "      <th>Sales</th>\n",
       "    </tr>\n",
       "  </thead>\n",
       "  <tbody>\n",
       "    <tr>\n",
       "      <th>0</th>\n",
       "      <td>East</td>\n",
       "      <td>Children's Clothing</td>\n",
       "      <td>18.0</td>\n",
       "      <td>$306.00</td>\n",
       "    </tr>\n",
       "    <tr>\n",
       "      <th>1</th>\n",
       "      <td>North</td>\n",
       "      <td>Children's Clothing</td>\n",
       "      <td>14.0</td>\n",
       "      <td>$448.00</td>\n",
       "    </tr>\n",
       "    <tr>\n",
       "      <th>2</th>\n",
       "      <td>South</td>\n",
       "      <td>Women's Clothing</td>\n",
       "      <td>17.0</td>\n",
       "      <td>$425.00</td>\n",
       "    </tr>\n",
       "    <tr>\n",
       "      <th>3</th>\n",
       "      <td>East</td>\n",
       "      <td>Children's Clothing</td>\n",
       "      <td>26.0</td>\n",
       "      <td>$832.00</td>\n",
       "    </tr>\n",
       "    <tr>\n",
       "      <th>4</th>\n",
       "      <td>West</td>\n",
       "      <td>Women's Clothing</td>\n",
       "      <td>3.0</td>\n",
       "      <td>$33.00</td>\n",
       "    </tr>\n",
       "    <tr>\n",
       "      <th>...</th>\n",
       "      <td>...</td>\n",
       "      <td>...</td>\n",
       "      <td>...</td>\n",
       "      <td>...</td>\n",
       "    </tr>\n",
       "    <tr>\n",
       "      <th>995</th>\n",
       "      <td>East</td>\n",
       "      <td>Children's Clothing</td>\n",
       "      <td>35.0</td>\n",
       "      <td>$735.00</td>\n",
       "    </tr>\n",
       "    <tr>\n",
       "      <th>996</th>\n",
       "      <td>North</td>\n",
       "      <td>Men's Clothing</td>\n",
       "      <td>20.0</td>\n",
       "      <td>$1,155.00</td>\n",
       "    </tr>\n",
       "    <tr>\n",
       "      <th>997</th>\n",
       "      <td>South</td>\n",
       "      <td>Men's Clothing</td>\n",
       "      <td>13.0</td>\n",
       "      <td>$208.00</td>\n",
       "    </tr>\n",
       "    <tr>\n",
       "      <th>998</th>\n",
       "      <td>South</td>\n",
       "      <td>Women's Clothing</td>\n",
       "      <td>17.0</td>\n",
       "      <td>$493.00</td>\n",
       "    </tr>\n",
       "    <tr>\n",
       "      <th>999</th>\n",
       "      <td>North</td>\n",
       "      <td>Women's Clothing</td>\n",
       "      <td>25.0</td>\n",
       "      <td>$300.00</td>\n",
       "    </tr>\n",
       "  </tbody>\n",
       "</table>\n",
       "<p>1000 rows × 4 columns</p>\n",
       "</div>"
      ],
      "text/plain": [
       "    Region                 Type  Units      Sales\n",
       "0     East  Children's Clothing   18.0    $306.00\n",
       "1    North  Children's Clothing   14.0    $448.00\n",
       "2    South     Women's Clothing   17.0    $425.00\n",
       "3     East  Children's Clothing   26.0    $832.00\n",
       "4     West     Women's Clothing    3.0     $33.00\n",
       "..     ...                  ...    ...        ...\n",
       "995   East  Children's Clothing   35.0    $735.00\n",
       "996  North       Men's Clothing   20.0  $1,155.00\n",
       "997  South       Men's Clothing   13.0    $208.00\n",
       "998  South     Women's Clothing   17.0    $493.00\n",
       "999  North     Women's Clothing   25.0    $300.00\n",
       "\n",
       "[1000 rows x 4 columns]"
      ]
     },
     "execution_count": 348,
     "metadata": {},
     "output_type": "execute_result"
    }
   ],
   "source": [
    "sales"
   ]
  },
  {
   "cell_type": "code",
   "execution_count": 350,
   "id": "a615fc86-b35b-45a1-b0dd-5d9a3579c3bc",
   "metadata": {},
   "outputs": [
    {
     "data": {
      "text/plain": [
       "Region    0\n",
       "Type      0\n",
       "Units     0\n",
       "Sales     0\n",
       "dtype: int64"
      ]
     },
     "execution_count": 350,
     "metadata": {},
     "output_type": "execute_result"
    }
   ],
   "source": [
    "sales.isna().sum()"
   ]
  },
  {
   "cell_type": "code",
   "execution_count": 352,
   "id": "5ff9f548-2f4a-4f8a-bb6a-b03d19d6d915",
   "metadata": {},
   "outputs": [],
   "source": [
    "sales[\"Sales\"].replace(\"[^0-9.]\",\"\",regex=True,inplace=True)"
   ]
  },
  {
   "cell_type": "code",
   "execution_count": 355,
   "id": "cf907303-2a2f-4f6c-bb96-cb991eccdfd9",
   "metadata": {},
   "outputs": [
    {
     "data": {
      "text/html": [
       "<div>\n",
       "<style scoped>\n",
       "    .dataframe tbody tr th:only-of-type {\n",
       "        vertical-align: middle;\n",
       "    }\n",
       "\n",
       "    .dataframe tbody tr th {\n",
       "        vertical-align: top;\n",
       "    }\n",
       "\n",
       "    .dataframe thead th {\n",
       "        text-align: right;\n",
       "    }\n",
       "</style>\n",
       "<table border=\"1\" class=\"dataframe\">\n",
       "  <thead>\n",
       "    <tr style=\"text-align: right;\">\n",
       "      <th></th>\n",
       "      <th>Region</th>\n",
       "      <th>Type</th>\n",
       "      <th>Units</th>\n",
       "      <th>Sales</th>\n",
       "    </tr>\n",
       "  </thead>\n",
       "  <tbody>\n",
       "    <tr>\n",
       "      <th>0</th>\n",
       "      <td>East</td>\n",
       "      <td>Children's Clothing</td>\n",
       "      <td>18.0</td>\n",
       "      <td>306.00</td>\n",
       "    </tr>\n",
       "    <tr>\n",
       "      <th>1</th>\n",
       "      <td>North</td>\n",
       "      <td>Children's Clothing</td>\n",
       "      <td>14.0</td>\n",
       "      <td>448.00</td>\n",
       "    </tr>\n",
       "    <tr>\n",
       "      <th>2</th>\n",
       "      <td>South</td>\n",
       "      <td>Women's Clothing</td>\n",
       "      <td>17.0</td>\n",
       "      <td>425.00</td>\n",
       "    </tr>\n",
       "    <tr>\n",
       "      <th>3</th>\n",
       "      <td>East</td>\n",
       "      <td>Children's Clothing</td>\n",
       "      <td>26.0</td>\n",
       "      <td>832.00</td>\n",
       "    </tr>\n",
       "    <tr>\n",
       "      <th>4</th>\n",
       "      <td>West</td>\n",
       "      <td>Women's Clothing</td>\n",
       "      <td>3.0</td>\n",
       "      <td>33.00</td>\n",
       "    </tr>\n",
       "    <tr>\n",
       "      <th>...</th>\n",
       "      <td>...</td>\n",
       "      <td>...</td>\n",
       "      <td>...</td>\n",
       "      <td>...</td>\n",
       "    </tr>\n",
       "    <tr>\n",
       "      <th>995</th>\n",
       "      <td>East</td>\n",
       "      <td>Children's Clothing</td>\n",
       "      <td>35.0</td>\n",
       "      <td>735.00</td>\n",
       "    </tr>\n",
       "    <tr>\n",
       "      <th>996</th>\n",
       "      <td>North</td>\n",
       "      <td>Men's Clothing</td>\n",
       "      <td>20.0</td>\n",
       "      <td>1155.00</td>\n",
       "    </tr>\n",
       "    <tr>\n",
       "      <th>997</th>\n",
       "      <td>South</td>\n",
       "      <td>Men's Clothing</td>\n",
       "      <td>13.0</td>\n",
       "      <td>208.00</td>\n",
       "    </tr>\n",
       "    <tr>\n",
       "      <th>998</th>\n",
       "      <td>South</td>\n",
       "      <td>Women's Clothing</td>\n",
       "      <td>17.0</td>\n",
       "      <td>493.00</td>\n",
       "    </tr>\n",
       "    <tr>\n",
       "      <th>999</th>\n",
       "      <td>North</td>\n",
       "      <td>Women's Clothing</td>\n",
       "      <td>25.0</td>\n",
       "      <td>300.00</td>\n",
       "    </tr>\n",
       "  </tbody>\n",
       "</table>\n",
       "<p>1000 rows × 4 columns</p>\n",
       "</div>"
      ],
      "text/plain": [
       "    Region                 Type  Units    Sales\n",
       "0     East  Children's Clothing   18.0   306.00\n",
       "1    North  Children's Clothing   14.0   448.00\n",
       "2    South     Women's Clothing   17.0   425.00\n",
       "3     East  Children's Clothing   26.0   832.00\n",
       "4     West     Women's Clothing    3.0    33.00\n",
       "..     ...                  ...    ...      ...\n",
       "995   East  Children's Clothing   35.0   735.00\n",
       "996  North       Men's Clothing   20.0  1155.00\n",
       "997  South       Men's Clothing   13.0   208.00\n",
       "998  South     Women's Clothing   17.0   493.00\n",
       "999  North     Women's Clothing   25.0   300.00\n",
       "\n",
       "[1000 rows x 4 columns]"
      ]
     },
     "execution_count": 355,
     "metadata": {},
     "output_type": "execute_result"
    }
   ],
   "source": [
    "sales"
   ]
  },
  {
   "cell_type": "code",
   "execution_count": 367,
   "id": "eea54144-f86d-4923-bece-43c59c2af14d",
   "metadata": {},
   "outputs": [
    {
     "data": {
      "text/plain": [
       "Region     object\n",
       "Type       object\n",
       "Units     float64\n",
       "Sales      object\n",
       "dtype: object"
      ]
     },
     "execution_count": 367,
     "metadata": {},
     "output_type": "execute_result"
    }
   ],
   "source": [
    "sales.dtypes"
   ]
  },
  {
   "cell_type": "code",
   "execution_count": 369,
   "id": "3c539fdc-3141-45bc-a178-f5ff5e5896ac",
   "metadata": {},
   "outputs": [
    {
     "data": {
      "text/plain": [
       "dtype('O')"
      ]
     },
     "execution_count": 369,
     "metadata": {},
     "output_type": "execute_result"
    }
   ],
   "source": [
    "sales[\"Sales\"].dtype"
   ]
  },
  {
   "cell_type": "code",
   "execution_count": 371,
   "id": "668c4eb2-27d9-4b03-ba0e-84145dd91643",
   "metadata": {},
   "outputs": [
    {
     "data": {
      "text/plain": [
       "0       306.0\n",
       "1       448.0\n",
       "2       425.0\n",
       "3       832.0\n",
       "4        33.0\n",
       "        ...  \n",
       "995     735.0\n",
       "996    1155.0\n",
       "997     208.0\n",
       "998     493.0\n",
       "999     300.0\n",
       "Name: Sales, Length: 1000, dtype: float64"
      ]
     },
     "execution_count": 371,
     "metadata": {},
     "output_type": "execute_result"
    }
   ],
   "source": [
    "sales[\"Sales\"].astype(\"float\")"
   ]
  },
  {
   "cell_type": "code",
   "execution_count": null,
   "id": "0b6362a8-ac50-4103-9813-e5a579102ba4",
   "metadata": {},
   "outputs": [],
   "source": []
  },
  {
   "cell_type": "code",
   "execution_count": null,
   "id": "a0a2c8c0-f9a8-45b3-be03-ca1250b53b36",
   "metadata": {},
   "outputs": [],
   "source": []
  },
  {
   "cell_type": "code",
   "execution_count": null,
   "id": "24be2f23-e2b4-4082-b0b1-974be7c81f4b",
   "metadata": {},
   "outputs": [],
   "source": []
  }
 ],
 "metadata": {
  "kernelspec": {
   "display_name": "Python 3 (ipykernel)",
   "language": "python",
   "name": "python3"
  },
  "language_info": {
   "codemirror_mode": {
    "name": "ipython",
    "version": 3
   },
   "file_extension": ".py",
   "mimetype": "text/x-python",
   "name": "python",
   "nbconvert_exporter": "python",
   "pygments_lexer": "ipython3",
   "version": "3.12.4"
  }
 },
 "nbformat": 4,
 "nbformat_minor": 5
}
